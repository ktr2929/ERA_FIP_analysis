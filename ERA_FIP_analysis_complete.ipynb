{
 "cells": [
  {
   "cell_type": "markdown",
   "id": "f242dcb8",
   "metadata": {},
   "source": [
    "# ERAとFIPによるNPB投手分析（2024年）\n",
    "\n",
    "このNotebookでは、2024年NPBセ・リーグの実際の投手成績データを用いて、ERAとFIPの比較分析、およびERA予測モデルを構築します。"
   ]
  },
  {
   "cell_type": "code",
   "execution_count": 1,
   "id": "6326463f",
   "metadata": {},
   "outputs": [],
   "source": [
    "# 必要なライブラリ\n",
    "import pandas as pd\n",
    "import numpy as np\n",
    "import matplotlib.pyplot as plt\n",
    "from sklearn.linear_model import LinearRegression\n",
    "from sklearn.model_selection import train_test_split\n",
    "from sklearn.metrics import mean_absolute_error, mean_squared_error, r2_score"
   ]
  },
  {
   "cell_type": "markdown",
   "id": "9512d31c",
   "metadata": {},
   "source": [
    "## データの読み込み"
   ]
  },
  {
   "cell_type": "code",
   "execution_count": 2,
   "id": "9db432d3",
   "metadata": {},
   "outputs": [
    {
     "data": {
      "text/html": [
       "<div>\n",
       "<style scoped>\n",
       "    .dataframe tbody tr th:only-of-type {\n",
       "        vertical-align: middle;\n",
       "    }\n",
       "\n",
       "    .dataframe tbody tr th {\n",
       "        vertical-align: top;\n",
       "    }\n",
       "\n",
       "    .dataframe thead th {\n",
       "        text-align: right;\n",
       "    }\n",
       "</style>\n",
       "<table border=\"1\" class=\"dataframe\">\n",
       "  <thead>\n",
       "    <tr style=\"text-align: right;\">\n",
       "      <th></th>\n",
       "      <th>Name</th>\n",
       "      <th>IP</th>\n",
       "      <th>HR</th>\n",
       "      <th>BB</th>\n",
       "      <th>HBP</th>\n",
       "      <th>K</th>\n",
       "      <th>ERA</th>\n",
       "    </tr>\n",
       "  </thead>\n",
       "  <tbody>\n",
       "    <tr>\n",
       "      <th>0</th>\n",
       "      <td>髙橋　宏斗</td>\n",
       "      <td>143.0</td>\n",
       "      <td>1</td>\n",
       "      <td>2</td>\n",
       "      <td>4</td>\n",
       "      <td>130</td>\n",
       "      <td>1.38</td>\n",
       "    </tr>\n",
       "    <tr>\n",
       "      <th>1</th>\n",
       "      <td>菅野　智之</td>\n",
       "      <td>156.0</td>\n",
       "      <td>6</td>\n",
       "      <td>0</td>\n",
       "      <td>4</td>\n",
       "      <td>111</td>\n",
       "      <td>1.67</td>\n",
       "    </tr>\n",
       "    <tr>\n",
       "      <th>2</th>\n",
       "      <td>才木　浩人</td>\n",
       "      <td>167.0</td>\n",
       "      <td>4</td>\n",
       "      <td>2</td>\n",
       "      <td>0</td>\n",
       "      <td>137</td>\n",
       "      <td>1.83</td>\n",
       "    </tr>\n",
       "    <tr>\n",
       "      <th>3</th>\n",
       "      <td>大瀬良　大地</td>\n",
       "      <td>155.0</td>\n",
       "      <td>5</td>\n",
       "      <td>3</td>\n",
       "      <td>3</td>\n",
       "      <td>98</td>\n",
       "      <td>1.86</td>\n",
       "    </tr>\n",
       "    <tr>\n",
       "      <th>4</th>\n",
       "      <td>戸郷　翔征</td>\n",
       "      <td>180.0</td>\n",
       "      <td>12</td>\n",
       "      <td>3</td>\n",
       "      <td>7</td>\n",
       "      <td>156</td>\n",
       "      <td>1.95</td>\n",
       "    </tr>\n",
       "  </tbody>\n",
       "</table>\n",
       "</div>"
      ],
      "text/plain": [
       "     Name     IP  HR  BB  HBP    K   ERA\n",
       "0   髙橋　宏斗  143.0   1   2    4  130  1.38\n",
       "1   菅野　智之  156.0   6   0    4  111  1.67\n",
       "2   才木　浩人  167.0   4   2    0  137  1.83\n",
       "3  大瀬良　大地  155.0   5   3    3   98  1.86\n",
       "4   戸郷　翔征  180.0  12   3    7  156  1.95"
      ]
     },
     "execution_count": 2,
     "metadata": {},
     "output_type": "execute_result"
    }
   ],
   "source": [
    "# CSVファイルを読み込み\n",
    "df = pd.read_csv(\"2024_Central_Pitcher_Data.csv\")\n",
    "df.head()"
   ]
  },
  {
   "cell_type": "markdown",
   "id": "05e90b0e",
   "metadata": {},
   "source": [
    "## FIPの計算"
   ]
  },
  {
   "cell_type": "code",
   "execution_count": 3,
   "id": "efd68767",
   "metadata": {},
   "outputs": [
    {
     "data": {
      "text/html": [
       "<div>\n",
       "<style scoped>\n",
       "    .dataframe tbody tr th:only-of-type {\n",
       "        vertical-align: middle;\n",
       "    }\n",
       "\n",
       "    .dataframe tbody tr th {\n",
       "        vertical-align: top;\n",
       "    }\n",
       "\n",
       "    .dataframe thead th {\n",
       "        text-align: right;\n",
       "    }\n",
       "</style>\n",
       "<table border=\"1\" class=\"dataframe\">\n",
       "  <thead>\n",
       "    <tr style=\"text-align: right;\">\n",
       "      <th></th>\n",
       "      <th>Name</th>\n",
       "      <th>ERA</th>\n",
       "      <th>FIP</th>\n",
       "      <th>ERA-FIP差</th>\n",
       "    </tr>\n",
       "  </thead>\n",
       "  <tbody>\n",
       "    <tr>\n",
       "      <th>0</th>\n",
       "      <td>髙橋　宏斗</td>\n",
       "      <td>1.38</td>\n",
       "      <td>1.598601</td>\n",
       "      <td>-0.218601</td>\n",
       "    </tr>\n",
       "    <tr>\n",
       "      <th>1</th>\n",
       "      <td>菅野　智之</td>\n",
       "      <td>1.67</td>\n",
       "      <td>2.353846</td>\n",
       "      <td>-0.683846</td>\n",
       "    </tr>\n",
       "    <tr>\n",
       "      <th>2</th>\n",
       "      <td>才木　浩人</td>\n",
       "      <td>1.83</td>\n",
       "      <td>1.906587</td>\n",
       "      <td>-0.076587</td>\n",
       "    </tr>\n",
       "    <tr>\n",
       "      <th>3</th>\n",
       "      <td>大瀬良　大地</td>\n",
       "      <td>1.86</td>\n",
       "      <td>2.470968</td>\n",
       "      <td>-0.610968</td>\n",
       "    </tr>\n",
       "    <tr>\n",
       "      <th>4</th>\n",
       "      <td>戸郷　翔征</td>\n",
       "      <td>1.95</td>\n",
       "      <td>2.500000</td>\n",
       "      <td>-0.550000</td>\n",
       "    </tr>\n",
       "  </tbody>\n",
       "</table>\n",
       "</div>"
      ],
      "text/plain": [
       "     Name   ERA       FIP  ERA-FIP差\n",
       "0   髙橋　宏斗  1.38  1.598601 -0.218601\n",
       "1   菅野　智之  1.67  2.353846 -0.683846\n",
       "2   才木　浩人  1.83  1.906587 -0.076587\n",
       "3  大瀬良　大地  1.86  2.470968 -0.610968\n",
       "4   戸郷　翔征  1.95  2.500000 -0.550000"
      ]
     },
     "execution_count": 3,
     "metadata": {},
     "output_type": "execute_result"
    }
   ],
   "source": [
    "# FIPの計算\n",
    "C = 3.20  # 補正定数（仮）\n",
    "df['FIP'] = ((13 * df['HR'] + 3 * (df['BB'] + df['HBP']) - 2 * df['K']) / df['IP']) + C\n",
    "df['ERA-FIP差'] = df['ERA'] - df['FIP']\n",
    "df[['Name', 'ERA', 'FIP', 'ERA-FIP差']].head()"
   ]
  },
  {
   "cell_type": "markdown",
   "id": "058a47fa",
   "metadata": {},
   "source": [
    "## ERAとFIPの比較（可視化）"
   ]
  },
  {
   "cell_type": "code",
   "execution_count": 4,
   "id": "00ffa280",
   "metadata": {},
   "outputs": [
    {
     "data": {
      "image/png": "[encoded data removed]",
      "text/plain": [
       "<Figure size 800x600 with 1 Axes>"
      ]
     },
     "metadata": {},
     "output_type": "display_data"
    }
   ],
   "source": [
    "# 散布図で比較\n",
    "plt.figure(figsize=(8, 6))\n",
    "plt.scatter(df['FIP'], df['ERA'], color='blue')\n",
    "plt.plot([df['FIP'].min(), df['FIP'].max()], [df['FIP'].min(), df['FIP'].max()], 'r--', label='y = x')\n",
    "plt.xlabel('FIP')\n",
    "plt.ylabel('ERA')\n",
    "plt.title('ERA vs FIP')\n",
    "plt.grid(True)\n",
    "plt.legend()\n",
    "plt.show()"
   ]
  },
  {
   "cell_type": "markdown",
   "id": "939a0c64",
   "metadata": {},
   "source": [
    "## ERA予測モデルの構築（線形回帰）"
   ]
  },
  {
   "cell_type": "code",
   "execution_count": 5,
   "id": "b4de8483",
   "metadata": {},
   "outputs": [
    {
     "name": "stdout",
     "output_type": "stream",
     "text": [
      "MAE: 0.2822876459543841\n",
      "RMSE: 0.3779014432793507\n",
      "R2 Score: 0.7036327459201377\n"
     ]
    }
   ],
   "source": [
    "# モデル用データ\n",
    "X = df[['IP', 'HR', 'BB', 'HBP', 'K']]\n",
    "y = df['ERA']\n",
    "\n",
    "# 学習用とテスト用に分割\n",
    "X_train, X_test, y_train, y_test = train_test_split(X, y, test_size=0.2, random_state=42)\n",
    "\n",
    "# 線形回帰モデル\n",
    "model = LinearRegression()\n",
    "model.fit(X_train, y_train)\n",
    "y_pred = model.predict(X_test)\n",
    "\n",
    "# 評価\n",
    "print(\"MAE:\", mean_absolute_error(y_test, y_pred))\n",
    "print(\"RMSE:\", np.sqrt(mean_squared_error(y_test, y_pred)))\n",
    "print(\"R2 Score:\", r2_score(y_test, y_pred))"
   ]
  },
  {
   "cell_type": "markdown",
   "id": "bdf65667",
   "metadata": {},
   "source": [
    "## 特徴量の重要度（回帰係数）"
   ]
  },
  {
   "cell_type": "code",
   "execution_count": 6,
   "id": "6ab42382",
   "metadata": {},
   "outputs": [
    {
     "data": {
      "image/png": "[encoded data removed]",
      "text/plain": [
       "<Figure size 800x400 with 1 Axes>"
      ]
     },
     "metadata": {},
     "output_type": "display_data"
    }
   ],
   "source": [
    "importance = pd.Series(model.coef_, index=X.columns).sort_values(ascending=False)\n",
    "importance.plot(kind='bar', figsize=(8, 4), title='Feature Importance in ERA Prediction')\n",
    "plt.ylabel('Coefficient')\n",
    "plt.grid(True)\n",
    "plt.show()"
   ]
  }
 ],
 "metadata": {
  "kernelspec": {
   "display_name": ".conda",
   "language": "python",
   "name": "python3"
  },
  "language_info": {
   "codemirror_mode": {
    "name": "ipython",
    "version": 3
   },
   "file_extension": ".py",
   "mimetype": "text/x-python",
   "name": "python",
   "nbconvert_exporter": "python",
   "pygments_lexer": "ipython3",
   "version": "3.11.11"
  }
 },
 "nbformat": 4,
 "nbformat_minor": 5
}
