{
 "cells": [
  {
   "cell_type": "markdown",
   "id": "f242dcb8",
   "metadata": {},
   "source": [
    "# ERAとFIPによるNPB投手分析（2024年）\n",
    "\n",
    "このNotebookでは、2024年NPBセ・リーグの実際の投手成績データを用いて、ERAとFIPの比較分析、およびERA予測モデルを構築します。"
   ]
  },
  {
   "cell_type": "code",
   "execution_count": null,
   "id": "6326463f",
   "metadata": {},
   "outputs": [],
   "source": [
    "# 必要なライブラリ\n",
    "import pandas as pd\n",
    "import numpy as np\n",
    "import matplotlib.pyplot as plt\n",
    "from sklearn.linear_model import LinearRegression\n",
    "from sklearn.model_selection import train_test_split\n",
    "from sklearn.metrics import mean_absolute_error, mean_squared_error, r2_score"
   ]
  },
  {
   "cell_type": "markdown",
   "id": "9512d31c",
   "metadata": {},
   "source": [
    "## データの読み込み"
   ]
  },
  {
   "cell_type": "code",
   "execution_count": null,
   "id": "9db432d3",
   "metadata": {},
   "outputs": [],
   "source": [
    "# CSVファイルを読み込み\n",
    "df = pd.read_csv(\"2024_Central_Pitcher_Data.csv\")\n",
    "df.head()"
   ]
  },
  {
   "cell_type": "markdown",
   "id": "05e90b0e",
   "metadata": {},
   "source": [
    "## FIPの計算"
   ]
  },
  {
   "cell_type": "code",
   "execution_count": null,
   "id": "efd68767",
   "metadata": {},
   "outputs": [],
   "source": [
    "# FIPの計算\n",
    "C = 3.20  # 補正定数（仮）\n",
    "df['FIP'] = ((13 * df['HR'] + 3 * (df['BB'] + df['HBP']) - 2 * df['K']) / df['IP']) + C\n",
    "df['ERA-FIP差'] = df['ERA'] - df['FIP']\n",
    "df[['Name', 'ERA', 'FIP', 'ERA-FIP差']].head()"
   ]
  },
  {
   "cell_type": "markdown",
   "id": "058a47fa",
   "metadata": {},
   "source": [
    "## ERAとFIPの比較（可視化）"
   ]
  },
  {
   "cell_type": "code",
   "execution_count": null,
   "id": "00ffa280",
   "metadata": {},
   "outputs": [],
   "source": [
    "# 散布図で比較\n",
    "plt.figure(figsize=(8, 6))\n",
    "plt.scatter(df['FIP'], df['ERA'], color='blue')\n",
    "plt.plot([df['FIP'].min(), df['FIP'].max()], [df['FIP'].min(), df['FIP'].max()], 'r--', label='y = x')\n",
    "plt.xlabel('FIP')\n",
    "plt.ylabel('ERA')\n",
    "plt.title('ERA vs FIP')\n",
    "plt.grid(True)\n",
    "plt.legend()\n",
    "plt.show()"
   ]
  },
  {
   "cell_type": "markdown",
   "id": "939a0c64",
   "metadata": {},
   "source": [
    "## ERA予測モデルの構築（線形回帰）"
   ]
  },
  {
   "cell_type": "code",
   "execution_count": null,
   "id": "b4de8483",
   "metadata": {},
   "outputs": [],
   "source": [
    "# モデル用データ\n",
    "X = df[['IP', 'HR', 'BB', 'HBP', 'K']]\n",
    "y = df['ERA']\n",
    "\n",
    "# 学習用とテスト用に分割\n",
    "X_train, X_test, y_train, y_test = train_test_split(X, y, test_size=0.2, random_state=42)\n",
    "\n",
    "# 線形回帰モデル\n",
    "model = LinearRegression()\n",
    "model.fit(X_train, y_train)\n",
    "y_pred = model.predict(X_test)\n",
    "\n",
    "# 評価\n",
    "print(\"MAE:\", mean_absolute_error(y_test, y_pred))\n",
    "print(\"RMSE:\", np.sqrt(mean_squared_error(y_test, y_pred)))\n",
    "print(\"R2 Score:\", r2_score(y_test, y_pred))"
   ]
  },
  {
   "cell_type": "markdown",
   "id": "bdf65667",
   "metadata": {},
   "source": [
    "## 特徴量の重要度（回帰係数）"
   ]
  },
  {
   "cell_type": "code",
   "execution_count": null,
   "id": "6ab42382",
   "metadata": {},
   "outputs": [],
   "source": [
    "importance = pd.Series(model.coef_, index=X.columns).sort_values(ascending=False)\n",
    "importance.plot(kind='bar', figsize=(8, 4), title='Feature Importance in ERA Prediction')\n",
    "plt.ylabel('Coefficient')\n",
    "plt.grid(True)\n",
    "plt.show()"
   ]
  }
 ],
 "metadata": {
  "kernelspec": {
   "display_name": "Python 3",
   "language": "python",
   "name": "python3"
  },
  "language_info": {
   "name": "python",
   "version": "3.8"
  }
 },
 "nbformat": 4,
 "nbformat_minor": 5
}
